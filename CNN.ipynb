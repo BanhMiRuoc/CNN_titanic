{
  "cells": [
    {
      "cell_type": "markdown",
      "metadata": {
        "id": "view-in-github",
        "colab_type": "text"
      },
      "source": [
        "<a href=\"https://colab.research.google.com/github/BanhMiRuoc/CNN_titanic/blob/main/CNN.ipynb\" target=\"_parent\"><img src=\"https://colab.research.google.com/assets/colab-badge.svg\" alt=\"Open In Colab\"/></a>"
      ]
    },
    {
      "cell_type": "code",
      "execution_count": 6,
      "metadata": {
        "id": "b9am2PUy_VsR"
      },
      "outputs": [],
      "source": [
        "import numpy\n",
        "import pandas as pd\n",
        "from sklearn.model_selection import train_test_split\n",
        "from sklearn.preprocessing import StandardScaler, OneHotEncoder\n",
        "from sklearn.compose import ColumnTransformer\n",
        "from sklearn.pipeline import Pipeline\n",
        "from torch.utils.data import Dataset, DataLoader\n",
        "import torch\n",
        "import torch.nn as nn\n",
        "import torch.optim as optim"
      ]
    },
    {
      "cell_type": "code",
      "source": [
        "data = pd.read_csv('/content/train.csv')\n",
        "data.head()\n",
        "print(data.columns)"
      ],
      "metadata": {
        "id": "hLNrmGZbHiJ7",
        "outputId": "f43b7eac-897b-4cdf-a792-264b55922588",
        "colab": {
          "base_uri": "https://localhost:8080/"
        }
      },
      "execution_count": 5,
      "outputs": [
        {
          "output_type": "stream",
          "name": "stdout",
          "text": [
            "Index(['PassengerId', 'Survived', 'Pclass', 'Name', 'Sex', 'Age', 'SibSp',\n",
            "       'Parch', 'Ticket', 'Fare', 'Cabin', 'Embarked'],\n",
            "      dtype='object')\n"
          ]
        }
      ]
    },
    {
      "cell_type": "code",
      "source": [
        "#tiền xử lý dữ liệu\n",
        "## xây dựng lớp titanicDataset\n",
        "class TitanicDataset(Dataset):\n",
        "\n",
        "  #Định nghĩa hàm khởi tạo\n",
        "  def __init__(self, data_path, train=True):\n",
        "\n",
        "    self.train = train\n",
        "    self.data = pd.read_csv(data_path)\n",
        "\n",
        "  def select_features(self):\n",
        "\n",
        "    columns_to_drop = ['Name', 'Ticket', 'Cabin', 'Pclass', 'Embarked', 'SibSp', 'Parch', 'Fare']\n",
        "    self.data = self.data.drop(columns_to_drop, axis=1)\n",
        "    selected_columns = ['PassengerId', 'Survived','Sex', 'Age']\n",
        "\n",
        "    self.data = self.data[selected_columns]\n",
        "    self.data['Sex'] = self.data['Sex'].map({'male': 0, 'female': 1})\n",
        "\n",
        "\n",
        "    return self.data\n",
        "\n",
        "  def handle_missing_values(self):\n",
        "\n",
        "    self.data['Age'] = self.data['Age'].fillna(self.data['Age'].mean())\n",
        "\n",
        "  def preprocess(self):\n",
        "    X = self.data.drop('Survived', axis=1)\n",
        "    y = self.data['Survived']\n",
        "    X_train, X_test, y_train, y_test = train_test_split(X, y, test_size=0.2, random_state=42)\n",
        "    numeric_features = ['Age']\n",
        "    categorical_features = ['Sex', 'PassengerId']\n",
        "\n",
        "    numeric_transformer = StandardScaler()\n",
        "    categorical_transformer = OneHotEncoder(handle_unknown='ignore', sparse_output=False)\n",
        "\n",
        "    preprocessor = ColumnTransformer(\n",
        "        transformers=[\n",
        "            ('num', numeric_transformer, numeric_features),\n",
        "            ('cat', categorical_transformer, categorical_features)\n",
        "        ])\n",
        "\n",
        "    pipeline = Pipeline(steps=[('preprocessor', preprocessor)])\n",
        "\n",
        "    X_train = pipeline.fit_transform(X_train)\n",
        "    X_test = pipeline.transform(X_test)\n",
        "\n",
        "    return X_train, X_test, y_train, y_test\n"
      ],
      "metadata": {
        "id": "gljC60qoAB70"
      },
      "execution_count": 11,
      "outputs": []
    },
    {
      "cell_type": "code",
      "source": [
        "data_path = '/content/train.csv'\n",
        "titanic_dataset = TitanicDataset(data_path)\n",
        "titanic_dataset.select_features()\n",
        "titanic_dataset.handle_missing_values()\n",
        "X_train, X_test, y_train, y_test = titanic_dataset.preprocess()\n",
        "print(\"Shape of X_train:\", X_train.shape)\n",
        "print(\"Shape of X_test:\", X_test.shape)\n",
        "print(\"Sample X_train:\", X_train[:5])"
      ],
      "metadata": {
        "id": "bQjU95xaF4Qw",
        "outputId": "db0d6c5e-6450-4893-c4e6-a382befc9ece",
        "colab": {
          "base_uri": "https://localhost:8080/"
        }
      },
      "execution_count": 12,
      "outputs": [
        {
          "output_type": "stream",
          "name": "stdout",
          "text": [
            "Shape of X_train: (712, 715)\n",
            "Shape of X_test: (179, 715)\n",
            "Sample X_train: [[ 1.22920747  1.          0.         ...  0.          0.\n",
            "   0.        ]\n",
            " [-0.50350514  1.          0.         ...  0.          0.\n",
            "   0.        ]\n",
            " [ 0.18957991  1.          0.         ...  0.          0.\n",
            "   0.        ]\n",
            " [-0.27247679  1.          0.         ...  0.          0.\n",
            "   0.        ]\n",
            " [-1.81266577  0.          1.         ...  0.          0.\n",
            "   0.        ]]\n"
          ]
        }
      ]
    }
  ],
  "metadata": {
    "language_info": {
      "name": "python"
    },
    "colab": {
      "provenance": [],
      "include_colab_link": true
    },
    "kernelspec": {
      "name": "python3",
      "display_name": "Python 3"
    }
  },
  "nbformat": 4,
  "nbformat_minor": 0
}